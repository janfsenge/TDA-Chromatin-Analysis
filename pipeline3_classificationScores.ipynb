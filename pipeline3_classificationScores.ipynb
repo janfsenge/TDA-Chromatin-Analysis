{
 "cells": [
  {
   "cell_type": "code",
   "execution_count": 1,
   "metadata": {},
   "outputs": [],
   "source": [
    "import numpy as np\n",
    "import pandas as pd\n",
    "import matplotlib.pyplot as plt\n",
    "import seaborn as sns\n",
    "\n",
    "import gudhi as gd\n",
    "from gudhi.representations import PersistenceImage, BettiCurve, Entropy\n",
    "\n",
    "from sklearn.preprocessing import LabelEncoder, MinMaxScaler, StandardScaler\n",
    "from sklearn.metrics import precision_score, recall_score, balanced_accuracy_score\n",
    "\n",
    "from scipy.ndimage import gaussian_filter\n",
    "from scipy.stats import gaussian_kde\n",
    "\n",
    "from pathlib import Path\n",
    "from tqdm.notebook import tqdm\n",
    "\n",
    "from itertools import product\n",
    "\n",
    "# load the methods from the src folder\n",
    "from src.auxfunctions import get_all_classifications\n",
    "from src.inputreader import read_persistence_files"
   ]
  },
  {
   "cell_type": "code",
   "execution_count": 2,
   "metadata": {},
   "outputs": [],
   "source": [
    "data_input = Path('data_segmented')\n",
    "input_airyscan = data_input / 'Airyscan'\n",
    "input_sted = data_input / 'STED'\n",
    "\n",
    "data_pers = Path('data_processed')\n",
    "pers_sted = data_pers / 'persistence_sted'\n",
    "pers_airyscan = data_pers / 'persistence_airyscan'\n",
    "vectorization_sted = data_pers / 'vectorizations_sted'\n",
    "vectorization_airyscan = data_pers / 'vectorizations_airyscan'\n",
    "classification_path = data_pers / 'classification'"
   ]
  },
  {
   "cell_type": "code",
   "execution_count": 3,
   "metadata": {},
   "outputs": [],
   "source": [
    "# get_all_classifications(preprocessing,\n",
    "#     pers_sted, \n",
    "#     classification_path, labels,\n",
    "#     runs=1, train_percent='70', run=0,\n",
    "#     persistence_threshold=None,\n",
    "#     birth_threshold=None,\n",
    "#     nameappend='', saveasfile=False)"
   ]
  },
  {
   "cell_type": "code",
   "execution_count": 4,
   "metadata": {},
   "outputs": [],
   "source": [
    "# preprocessing = 'clip_minmax_gaussian2c_minmax'\n",
    "# df_labels = pd.read_csv(data_pers / 'labels_persistence_airyscan.csv')\n",
    "# labels = df_labels['labels'].values\n",
    "\n",
    "# birth_thresholds = [0.0, -0.05, -0.1, -0.15, -0.2, -0.25, -0.3]\n",
    "# persistence_thresholds = [0.0, 0.05, 0.1, 0.15, 0.2]\n",
    "\n",
    "# for birth_thresh, pers_thresh in tqdm(product(birth_thresholds, persistence_thresholds)):\n",
    "#     get_all_classifications(preprocessing,\n",
    "#         pers_airyscan, \n",
    "#         classification_path,\n",
    "#         labels,\n",
    "#         runs=10, train_percent='70', run=0,\n",
    "#         persistence_threshold=pers_thresh,\n",
    "#         birth_threshold=birth_thresh,\n",
    "#         nameappend=f'thresh-birth-{int(np.abs(birth_thresh)*100):03d}'\\\n",
    "#             f'-pers-{int(pers_thresh*100):03d}',\n",
    "#         saveasfile=True)"
   ]
  },
  {
   "cell_type": "code",
   "execution_count": 5,
   "metadata": {},
   "outputs": [],
   "source": [
    "# preprocessing = 'clip_minmax_gaussian2c_minmax'\n",
    "# df_labels = pd.read_csv(data_pers / 'labels_persistence_airyscan.csv')\n",
    "# labels = df_labels['labels'].values\n",
    "\n",
    "# get_all_classifications(preprocessing,\n",
    "#     pers_airyscan, \n",
    "#     classification_path,\n",
    "#     labels,\n",
    "#     runs=100, train_percent='70', run=0,\n",
    "#     persistence_threshold=0,\n",
    "#     birth_threshold=0,\n",
    "#     nameappend='new',\n",
    "#     saveasfile=True)"
   ]
  },
  {
   "cell_type": "markdown",
   "metadata": {},
   "source": [
    "# STED"
   ]
  },
  {
   "cell_type": "code",
   "execution_count": 6,
   "metadata": {},
   "outputs": [],
   "source": [
    "# preprocessing = 'clip_minmax_gaussian2c_minmax'\n",
    "# df_labels = pd.read_csv(data_pers / 'labels_persistence_airyscan.csv')\n",
    "# labels = df_labels['labels'].values\n",
    "\n",
    "# get_all_classifications(preprocessing,\n",
    "#     pers_airyscan, \n",
    "#     classification_path,\n",
    "#     labels,\n",
    "#     runs=100, train_percent='70', run=0,\n",
    "#     persistence_threshold=0,\n",
    "#     birth_threshold=0,\n",
    "#     nameappend='',\n",
    "#     saveasfile=True)"
   ]
  },
  {
   "cell_type": "code",
   "execution_count": null,
   "metadata": {},
   "outputs": [
    {
     "name": "stdout",
     "output_type": "stream",
     "text": [
      "Classification file: data_processed/classification/new_classification_sted_traintest_runs-10_perc-70_sted_clip_minmax_gaussian2c_minmax.csv ,\n",
      "  reading: persistence_sted_clip_minmax_gaussian2c_minmax.npz\n",
      "File already exists\n",
      "Classification file: data_processed/classification/new_classification_sted_traintest_runs-20_perc-70_runstart-10_sted_clip_minmax_gaussian2c_minmax.csv ,\n",
      "  reading: persistence_sted_clip_minmax_gaussian2c_minmax.npz\n",
      "File already exists\n",
      "Classification file: data_processed/classification/new_classification_sted_traintest_runs-30_perc-70_runstart-20_sted_clip_minmax_gaussian2c_minmax.csv ,\n",
      "  reading: persistence_sted_clip_minmax_gaussian2c_minmax.npz\n"
     ]
    },
    {
     "name": "stderr",
     "output_type": "stream",
     "text": [
      "  0%|          | 0/10 [00:00<?, ?it/s]"
     ]
    },
    {
     "name": "stdout",
     "output_type": "stream",
     "text": [
      "run 20 , vectorization: stat , dim: 2 , shape: (294, 24) (184, 24)\n",
      "run 20 , vectorization: stat , dim: 3 , shape: (294, 36) (184, 36)\n",
      "run 20 , vectorization: bc , dim: 2 , shape: (294, 500) (184, 500)\n",
      "run 20 , vectorization: bc , dim: 3 , shape: (294, 750) (184, 750)\n",
      "run 20 , vectorization: pi , dim: 2 , shape: (294, 800) (184, 800)\n",
      "run 20 , vectorization: pi , dim: 3 , shape: (294, 1200) (184, 1200)\n",
      "run 20 , vectorization: ent , dim: 2 , shape: (294, 202) (184, 202)\n",
      "run 20 , vectorization: ent , dim: 3 , shape: (294, 303) (184, 303)\n",
      "run 20 , vectorization: ecc , dim: 2 , shape: (294, 250) (184, 250)\n",
      "run 20 , vectorization: ecc , dim: 3 , shape: (294, 250) (184, 250)\n",
      "run 20 , vectorization: all , dim: 2 , shape: (294, 1776) (184, 1776)\n",
      "run 20 , vectorization: all , dim: 3 , shape: (294, 2539) (184, 2539)\n"
     ]
    },
    {
     "name": "stderr",
     "output_type": "stream",
     "text": [
      " 10%|█         | 1/10 [12:38<1:53:42, 758.09s/it]"
     ]
    },
    {
     "name": "stdout",
     "output_type": "stream",
     "text": [
      "run 20 , vectorization: all, acc_bal: 0.9715758857747223\n",
      "run 20 , vectorization: stat , dim: 2 , shape: (294, 24) (184, 24)\n",
      "run 20 , vectorization: stat , dim: 3 , shape: (294, 36) (184, 36)\n",
      "run 20 , vectorization: bc , dim: 2 , shape: (294, 500) (184, 500)\n",
      "run 20 , vectorization: bc , dim: 3 , shape: (294, 750) (184, 750)\n",
      "run 20 , vectorization: pi , dim: 2 , shape: (294, 800) (184, 800)\n",
      "run 20 , vectorization: pi , dim: 3 , shape: (294, 1200) (184, 1200)\n",
      "run 20 , vectorization: ent , dim: 2 , shape: (294, 202) (184, 202)\n",
      "run 20 , vectorization: ent , dim: 3 , shape: (294, 303) (184, 303)\n",
      "run 20 , vectorization: ecc , dim: 2 , shape: (294, 250) (184, 250)\n",
      "run 20 , vectorization: ecc , dim: 3 , shape: (294, 250) (184, 250)\n",
      "run 20 , vectorization: all , dim: 2 , shape: (294, 1776) (184, 1776)\n",
      "run 20 , vectorization: all , dim: 3 , shape: (294, 2539) (184, 2539)\n"
     ]
    },
    {
     "name": "stderr",
     "output_type": "stream",
     "text": [
      " 20%|██        | 2/10 [25:17<1:41:16, 759.52s/it]"
     ]
    },
    {
     "name": "stdout",
     "output_type": "stream",
     "text": [
      "run 20 , vectorization: all, acc_bal: 0.9918032786885246\n",
      "run 20 , vectorization: stat , dim: 2 , shape: (294, 24) (184, 24)\n",
      "run 20 , vectorization: stat , dim: 3 , shape: (294, 36) (184, 36)\n",
      "run 20 , vectorization: bc , dim: 2 , shape: (294, 500) (184, 500)\n",
      "run 20 , vectorization: bc , dim: 3 , shape: (294, 750) (184, 750)\n",
      "run 20 , vectorization: pi , dim: 2 , shape: (294, 800) (184, 800)\n",
      "run 20 , vectorization: pi , dim: 3 , shape: (294, 1200) (184, 1200)\n",
      "run 20 , vectorization: ent , dim: 2 , shape: (294, 202) (184, 202)\n",
      "run 20 , vectorization: ent , dim: 3 , shape: (294, 303) (184, 303)\n",
      "run 20 , vectorization: ecc , dim: 2 , shape: (294, 250) (184, 250)\n",
      "run 20 , vectorization: ecc , dim: 3 , shape: (294, 250) (184, 250)\n",
      "run 20 , vectorization: all , dim: 2 , shape: (294, 1776) (184, 1776)\n",
      "run 20 , vectorization: all , dim: 3 , shape: (294, 2539) (184, 2539)\n"
     ]
    },
    {
     "name": "stderr",
     "output_type": "stream",
     "text": [
      " 30%|███       | 3/10 [37:59<1:28:52, 761.75s/it]"
     ]
    },
    {
     "name": "stdout",
     "output_type": "stream",
     "text": [
      "run 20 , vectorization: all, acc_bal: 0.9756742464304601\n",
      "run 20 , vectorization: stat , dim: 2 , shape: (294, 24) (184, 24)\n",
      "run 20 , vectorization: stat , dim: 3 , shape: (294, 36) (184, 36)\n",
      "run 20 , vectorization: bc , dim: 2 , shape: (294, 500) (184, 500)\n",
      "run 20 , vectorization: bc , dim: 3 , shape: (294, 750) (184, 750)\n",
      "run 20 , vectorization: pi , dim: 2 , shape: (294, 800) (184, 800)\n",
      "run 20 , vectorization: pi , dim: 3 , shape: (294, 1200) (184, 1200)\n",
      "run 20 , vectorization: ent , dim: 2 , shape: (294, 202) (184, 202)\n",
      "run 20 , vectorization: ent , dim: 3 , shape: (294, 303) (184, 303)\n",
      "run 20 , vectorization: ecc , dim: 2 , shape: (294, 250) (184, 250)\n",
      "run 20 , vectorization: ecc , dim: 3 , shape: (294, 250) (184, 250)\n",
      "run 20 , vectorization: all , dim: 2 , shape: (294, 1776) (184, 1776)\n",
      "run 20 , vectorization: all , dim: 3 , shape: (294, 2539) (184, 2539)\n"
     ]
    },
    {
     "name": "stderr",
     "output_type": "stream",
     "text": [
      " 40%|████      | 4/10 [50:35<1:15:37, 756.32s/it]"
     ]
    },
    {
     "name": "stdout",
     "output_type": "stream",
     "text": [
      "run 20 , vectorization: all, acc_bal: 0.9715758857747223\n",
      "run 20 , vectorization: stat , dim: 2 , shape: (294, 24) (184, 24)\n",
      "run 20 , vectorization: stat , dim: 3 , shape: (294, 36) (184, 36)\n",
      "run 20 , vectorization: bc , dim: 2 , shape: (294, 500) (184, 500)\n",
      "run 20 , vectorization: bc , dim: 3 , shape: (294, 750) (184, 750)\n",
      "run 20 , vectorization: pi , dim: 2 , shape: (294, 800) (184, 800)\n",
      "run 20 , vectorization: pi , dim: 3 , shape: (294, 1200) (184, 1200)\n",
      "run 20 , vectorization: ent , dim: 2 , shape: (294, 202) (184, 202)\n",
      "run 20 , vectorization: ent , dim: 3 , shape: (294, 303) (184, 303)\n",
      "run 20 , vectorization: ecc , dim: 2 , shape: (294, 250) (184, 250)\n",
      "run 20 , vectorization: ecc , dim: 3 , shape: (294, 250) (184, 250)\n",
      "run 20 , vectorization: all , dim: 2 , shape: (294, 1776) (184, 1776)\n",
      "run 20 , vectorization: all , dim: 3 , shape: (294, 2539) (184, 2539)\n"
     ]
    },
    {
     "name": "stderr",
     "output_type": "stream",
     "text": [
      " 50%|█████     | 5/10 [1:03:35<1:05:01, 780.30s/it]"
     ]
    },
    {
     "name": "stdout",
     "output_type": "stream",
     "text": [
      "run 20 , vectorization: all, acc_bal: 1.0\n",
      "run 20 , vectorization: stat , dim: 2 , shape: (294, 24) (184, 24)\n",
      "run 20 , vectorization: stat , dim: 3 , shape: (294, 36) (184, 36)\n",
      "run 20 , vectorization: bc , dim: 2 , shape: (294, 500) (184, 500)\n",
      "run 20 , vectorization: bc , dim: 3 , shape: (294, 750) (184, 750)\n",
      "run 20 , vectorization: pi , dim: 2 , shape: (294, 800) (184, 800)\n",
      "run 20 , vectorization: pi , dim: 3 , shape: (294, 1200) (184, 1200)\n",
      "run 20 , vectorization: ent , dim: 2 , shape: (294, 202) (184, 202)\n",
      "run 20 , vectorization: ent , dim: 3 , shape: (294, 303) (184, 303)\n",
      "run 20 , vectorization: ecc , dim: 2 , shape: (294, 250) (184, 250)\n",
      "run 20 , vectorization: ecc , dim: 3 , shape: (294, 250) (184, 250)\n",
      "run 20 , vectorization: all , dim: 2 , shape: (294, 1776) (184, 1776)\n",
      "run 20 , vectorization: all , dim: 3 , shape: (294, 2539) (184, 2539)\n"
     ]
    },
    {
     "name": "stderr",
     "output_type": "stream",
     "text": [
      " 60%|██████    | 6/10 [1:16:27<51:27, 771.95s/it]  "
     ]
    },
    {
     "name": "stdout",
     "output_type": "stream",
     "text": [
      "run 20 , vectorization: all, acc_bal: 0.9636435748281332\n",
      "run 20 , vectorization: stat , dim: 2 , shape: (294, 24) (184, 24)\n",
      "run 20 , vectorization: stat , dim: 3 , shape: (294, 36) (184, 36)\n",
      "run 20 , vectorization: bc , dim: 2 , shape: (294, 500) (184, 500)\n",
      "run 20 , vectorization: bc , dim: 3 , shape: (294, 750) (184, 750)\n",
      "run 20 , vectorization: pi , dim: 2 , shape: (294, 800) (184, 800)\n",
      "run 20 , vectorization: pi , dim: 3 , shape: (294, 1200) (184, 1200)\n",
      "run 20 , vectorization: ent , dim: 2 , shape: (294, 202) (184, 202)\n",
      "run 20 , vectorization: ent , dim: 3 , shape: (294, 303) (184, 303)\n",
      "run 20 , vectorization: ecc , dim: 2 , shape: (294, 250) (184, 250)\n",
      "run 20 , vectorization: ecc , dim: 3 , shape: (294, 250) (184, 250)\n",
      "run 20 , vectorization: all , dim: 2 , shape: (294, 1776) (184, 1776)\n",
      "run 20 , vectorization: all , dim: 3 , shape: (294, 2539) (184, 2539)\n"
     ]
    },
    {
     "name": "stderr",
     "output_type": "stream",
     "text": [
      " 70%|███████   | 7/10 [1:29:16<38:24, 768.29s/it]"
     ]
    },
    {
     "name": "stdout",
     "output_type": "stream",
     "text": [
      "run 20 , vectorization: all, acc_bal: 0.9636435748281332\n",
      "run 20 , vectorization: stat , dim: 2 , shape: (294, 24) (184, 24)\n",
      "run 20 , vectorization: stat , dim: 3 , shape: (294, 36) (184, 36)\n",
      "run 20 , vectorization: bc , dim: 2 , shape: (294, 500) (184, 500)\n",
      "run 20 , vectorization: bc , dim: 3 , shape: (294, 750) (184, 750)\n",
      "run 20 , vectorization: pi , dim: 2 , shape: (294, 800) (184, 800)\n",
      "run 20 , vectorization: pi , dim: 3 , shape: (294, 1200) (184, 1200)\n",
      "run 20 , vectorization: ent , dim: 2 , shape: (294, 202) (184, 202)\n",
      "run 20 , vectorization: ent , dim: 3 , shape: (294, 303) (184, 303)\n",
      "run 20 , vectorization: ecc , dim: 2 , shape: (294, 250) (184, 250)\n",
      "run 20 , vectorization: ecc , dim: 3 , shape: (294, 250) (184, 250)\n",
      "run 20 , vectorization: all , dim: 2 , shape: (294, 1776) (184, 1776)\n",
      "run 20 , vectorization: all , dim: 3 , shape: (294, 2539) (184, 2539)\n"
     ]
    },
    {
     "name": "stderr",
     "output_type": "stream",
     "text": [
      " 80%|████████  | 8/10 [1:42:12<25:52, 776.15s/it]"
     ]
    },
    {
     "name": "stdout",
     "output_type": "stream",
     "text": [
      "run 20 , vectorization: all, acc_bal: 0.9837387625594923\n",
      "run 20 , vectorization: stat , dim: 2 , shape: (294, 24) (184, 24)\n",
      "run 20 , vectorization: stat , dim: 3 , shape: (294, 36) (184, 36)\n",
      "run 20 , vectorization: bc , dim: 2 , shape: (294, 500) (184, 500)\n",
      "run 20 , vectorization: bc , dim: 3 , shape: (294, 750) (184, 750)\n",
      "run 20 , vectorization: pi , dim: 2 , shape: (294, 800) (184, 800)\n",
      "run 20 , vectorization: pi , dim: 3 , shape: (294, 1200) (184, 1200)\n",
      "run 20 , vectorization: ent , dim: 2 , shape: (294, 202) (184, 202)\n",
      "run 20 , vectorization: ent , dim: 3 , shape: (294, 303) (184, 303)\n",
      "run 20 , vectorization: ecc , dim: 2 , shape: (294, 250) (184, 250)\n",
      "run 20 , vectorization: ecc , dim: 3 , shape: (294, 250) (184, 250)\n",
      "run 20 , vectorization: all , dim: 2 , shape: (294, 1776) (184, 1776)\n",
      "run 20 , vectorization: all , dim: 3 , shape: (294, 2539) (184, 2539)\n"
     ]
    },
    {
     "name": "stderr",
     "output_type": "stream",
     "text": [
      " 90%|█████████ | 9/10 [1:55:07<12:55, 775.13s/it]"
     ]
    },
    {
     "name": "stdout",
     "output_type": "stream",
     "text": [
      "run 20 , vectorization: all, acc_bal: 0.9918032786885246\n",
      "run 20 , vectorization: stat , dim: 2 , shape: (294, 24) (184, 24)\n"
     ]
    }
   ],
   "source": [
    "preprocessing = 'clip_minmax_gaussian2c_minmax'\n",
    "df_labels = pd.read_csv(data_pers / 'labels_persistence_sted.csv')\n",
    "labels = df_labels['labels'].values\n",
    "\n",
    "for run in tqdm(range(0, 50, 10)):\n",
    "    get_all_classifications(preprocessing,\n",
    "        pers_sted, \n",
    "        classification_path, labels,\n",
    "        runs=run+10, run_start=run, train_percent='70',\n",
    "        nameappend=f'new',\n",
    "        saveasfile=True, n_jobs=4, verbatim=True)"
   ]
  },
  {
   "cell_type": "code",
   "execution_count": null,
   "metadata": {},
   "outputs": [],
   "source": [
    "preprocessing = 'clip_minmax_gaussian2c_minmax'\n",
    "df_labels = pd.read_csv(data_pers / 'labels_persistence_sted.csv')\n",
    "labels = df_labels['labels'].values\n",
    "\n",
    "birth_thresholds = [0.0, -0.05, -0.1, -0.15, -0.2, -0.25, -0.3]\n",
    "# on MACBOOK\n",
    "persistence_thresholds = [0.05, 0.0, 0.1, 0.15, 0.2]\n",
    "\n",
    "for birth_thresh, pers_thresh in tqdm(product(birth_thresholds, persistence_thresholds)):\n",
    "    if birth_thresh == 0.0 and pers_thresh == 0.0:\n",
    "        continue\n",
    "    get_all_classifications(preprocessing,\n",
    "        pers_sted, \n",
    "        classification_path, labels,\n",
    "        runs=0, run_start=run,\n",
    "        train_percent='70',\n",
    "        persistence_threshold=pers_thresh,\n",
    "        birth_threshold=birth_thresh,\n",
    "        nameappend=f'Mac_thresh-birth-{int(np.abs(birth_thresh)*100):03d}'\\\n",
    "            f'-pers-{int(pers_thresh*100):03d}',\n",
    "        saveasfile=True,  n_jobs=4)"
   ]
  }
 ],
 "metadata": {
  "kernelspec": {
   "display_name": "conda_nuclei_311",
   "language": "python",
   "name": "python3"
  },
  "language_info": {
   "codemirror_mode": {
    "name": "ipython",
    "version": 3
   },
   "file_extension": ".py",
   "mimetype": "text/x-python",
   "name": "python",
   "nbconvert_exporter": "python",
   "pygments_lexer": "ipython3",
   "version": "3.11.9"
  }
 },
 "nbformat": 4,
 "nbformat_minor": 2
}
