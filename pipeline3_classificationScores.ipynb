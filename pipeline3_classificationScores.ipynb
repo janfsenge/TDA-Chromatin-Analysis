{
 "cells": [
  {
   "cell_type": "code",
   "execution_count": 1,
   "metadata": {},
   "outputs": [],
   "source": [
    "import numpy as np\n",
    "import pandas as pd\n",
    "import matplotlib.pyplot as plt\n",
    "import seaborn as sns\n",
    "\n",
    "import gudhi as gd\n",
    "from gudhi.representations import PersistenceImage, BettiCurve, Entropy\n",
    "\n",
    "from sklearn.preprocessing import LabelEncoder, MinMaxScaler, StandardScaler\n",
    "from sklearn.metrics import precision_score, recall_score, balanced_accuracy_score\n",
    "\n",
    "from scipy.ndimage import gaussian_filter\n",
    "from scipy.stats import gaussian_kde\n",
    "\n",
    "from pathlib import Path\n",
    "from tqdm.notebook import tqdm\n",
    "\n",
    "from itertools import product\n",
    "\n",
    "# load the methods from the src folder\n",
    "from src.auxfunctions import get_all_classifications\n",
    "from src.inputreader import read_persistence_files"
   ]
  },
  {
   "cell_type": "code",
   "execution_count": null,
   "metadata": {},
   "outputs": [],
   "source": [
    "data_input = Path('data_segmented')\n",
    "input_airyscan = data_input / 'Airyscan'\n",
    "input_sted = data_input / 'STED'\n",
    "\n",
    "data_pers = Path('data_processed')\n",
    "pers_sted = data_pers / 'persistence_sted'\n",
    "pers_airyscan = data_pers / 'persistence_airyscan'\n",
    "vectorization_sted = data_pers / 'vectorizations_sted'\n",
    "vectorization_airyscan = data_pers / 'vectorizations_airyscan'\n",
    "classification_path = data_pers / 'classification' / 'original'"
   ]
  },
  {
   "cell_type": "code",
   "execution_count": null,
   "metadata": {},
   "outputs": [],
   "source": [
    "preprocessing = 'clip_minmax_gaussian2c_minmax'\n",
    "df_labels = pd.read_csv(data_pers / 'labels_persistence_sted.csv')\n",
    "labels = df_labels['labels'].values\n",
    "\n",
    "birth_thresh = 0\n",
    "pers_thresh = 0\n",
    "\n",
    "get_all_classifications(preprocessing,\n",
    "    pers_sted, \n",
    "    classification_path,\n",
    "    labels,\n",
    "    runs=100, train_percent='70', run=0,\n",
    "    persistence_threshold=pers_thresh,\n",
    "    birth_threshold=birth_thresh,\n",
    "    nameappend=f'classification-{int(np.abs(birth_thresh)*100):03d}'\\\n",
    "        f'-pers-{int(pers_thresh*100):03d}',\n",
    "    saveasfile=True)"
   ]
  },
  {
   "cell_type": "code",
   "execution_count": null,
   "metadata": {},
   "outputs": [],
   "source": [
    "preprocessing = 'clip_minmax_gaussian2c_minmax'\n",
    "df_labels = pd.read_csv(data_pers / 'labels_persistence_airyscan.csv')\n",
    "labels = df_labels['labels'].values\n",
    "\n",
    "birth_thresh = 0\n",
    "pers_thresh = 0\n",
    "\n",
    "get_all_classifications(preprocessing,\n",
    "    pers_airyscan, \n",
    "    classification_path,\n",
    "    labels,\n",
    "    runs=100, train_percent='70', run=0,\n",
    "    persistence_threshold=pers_thresh,\n",
    "    birth_threshold=birth_thresh,\n",
    "    nameappend=f'classification-{int(np.abs(birth_thresh)*100):03d}'\\\n",
    "        f'-pers-{int(pers_thresh*100):03d}',\n",
    "    saveasfile=True)"
   ]
  },
  {
   "cell_type": "code",
   "execution_count": null,
   "metadata": {},
   "outputs": [],
   "source": [
    "# preprocessing = 'clip_minmax_gaussian2c_minmax'\n",
    "# df_labels = pd.read_csv(data_pers / 'labels_persistence_airyscan.csv')\n",
    "# labels = df_labels['labels'].values\n",
    "\n",
    "# birth_thresh = -0.05\n",
    "# pers_thresh = 0.05\n",
    "\n",
    "# get_all_classifications(preprocessing,\n",
    "#     pers_airyscan, \n",
    "#     classification_path,\n",
    "#     labels,\n",
    "#     runs=10, train_percent='70', run=0,\n",
    "#     persistence_threshold=pers_thresh,\n",
    "#     birth_threshold=birth_thresh,\n",
    "#     nameappend=f'thresh-birth-{int(np.abs(birth_thresh)*100):03d}'\\\n",
    "#         f'-pers-{int(pers_thresh*100):03d}',\n",
    "#     saveasfile=True)"
   ]
  },
  {
   "cell_type": "code",
   "execution_count": null,
   "metadata": {},
   "outputs": [],
   "source": [
    "# preprocessing = 'clip_minmax_gaussian2c_minmax'\n",
    "# df_labels = pd.read_csv(data_pers / 'labels_persistence_airyscan.csv')\n",
    "# labels = df_labels['labels'].values\n",
    "\n",
    "# birth_thresh = -0.05\n",
    "# pers_thresh = 0.05\n",
    "\n",
    "# get_all_classifications(preprocessing,\n",
    "#     pers_airyscan, \n",
    "#     classification_path,\n",
    "#     labels,\n",
    "#     runs=10, train_percent='70', run=0,\n",
    "#     persistence_threshold=pers_thresh,\n",
    "#     birth_threshold=birth_thresh,\n",
    "#     nameappend=f'thresh-birth-{int(np.abs(birth_thresh)*100):03d}'\\\n",
    "#         f'-pers-{int(pers_thresh*100):03d}',\n",
    "#     saveasfile=True)"
   ]
  }
 ],
 "metadata": {
  "kernelspec": {
   "display_name": "conda_nuclei_311",
   "language": "python",
   "name": "python3"
  },
  "language_info": {
   "codemirror_mode": {
    "name": "ipython",
    "version": 3
   },
   "file_extension": ".py",
   "mimetype": "text/x-python",
   "name": "python",
   "nbconvert_exporter": "python",
   "pygments_lexer": "ipython3",
   "version": "3.11.12"
  }
 },
 "nbformat": 4,
 "nbformat_minor": 2
}
