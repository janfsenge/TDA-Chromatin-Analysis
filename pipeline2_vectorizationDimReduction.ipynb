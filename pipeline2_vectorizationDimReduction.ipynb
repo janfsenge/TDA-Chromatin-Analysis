{
 "cells": [
  {
   "cell_type": "code",
   "execution_count": 10,
   "metadata": {},
   "outputs": [],
   "source": [
    "import numpy as np\n",
    "import pandas as pd\n",
    "\n",
    "from pathlib import Path\n",
    "from tqdm.notebook import tqdm\n",
    "\n",
    "from src.inputreader import read_persistence_files\n",
    "from src.auxfunctions import compute_vectorizations_all"
   ]
  },
  {
   "cell_type": "code",
   "execution_count": 11,
   "metadata": {},
   "outputs": [],
   "source": [
    "data_input = Path('data_segmented')\n",
    "input_airyscan = data_input / 'Airyscan'\n",
    "input_sted = data_input / 'STED'\n",
    "\n",
    "data_pers = Path('data_processed')\n",
    "pers_sted = data_pers / 'persistence_sted'\n",
    "pers_airyscan = data_pers / 'persistence_airyscan'\n",
    "\n",
    "vec_sted = data_pers / 'vectorizations_sted'\n",
    "vec_airyscan = data_pers / 'vectorizations_airyscan'"
   ]
  },
  {
   "cell_type": "markdown",
   "metadata": {},
   "source": [
    "# STED\n",
    "\n",
    "compute vectorizations for all the samples and save them as a csv where the column names encode the vectorization"
   ]
  },
  {
   "cell_type": "code",
   "execution_count": null,
   "metadata": {},
   "outputs": [],
   "source": [
    "preprocessing = 'clip_minmax_gaussian2c_minmax'\n",
    "microscope = 'sted'\n",
    "\n",
    "if microscope.lower() == 'sted':\n",
    "    pers_folder = pers_sted\n",
    "    vect_folder = vec_sted\n",
    "elif microscope.lower() == 'airyscan':\n",
    "    pers_folder = pers_airyscan\n",
    "    vect_folder = vec_airyscan\n",
    "else:\n",
    "    raise ValueError('Microscope not recognized!')\n",
    "\n",
    "pers_all, keys = read_persistence_files(pers_folder, preprocessing, return_keys=True)\n",
    "if pers_all is None:\n",
    "    print('No persistence files for this preprocessing steps found!')\n",
    "df_labels = pd.read_csv(data_pers / f'labels_persistence_{microscope.lower()}.csv')\n",
    "labels = df_labels['labels'].values"
   ]
  },
  {
   "cell_type": "code",
   "execution_count": 18,
   "metadata": {},
   "outputs": [
    {
     "name": "stderr",
     "output_type": "stream",
     "text": [
      "100%|██████████| 2/2 [10:11<00:00, 305.88s/it]\n"
     ]
    }
   ],
   "source": [
    "df_vectorizations = compute_vectorizations_all(labels, pers_all, resolution_pi=20, bandwidth=4, resolution_bc=250)\n",
    "\n",
    "# df_vectorizations.to_csv(vect_folder / f'vectorizations_all_{microscope.lower()}_{preprocessing}.csv',\n",
    "#                          index=False)"
   ]
  },
  {
   "cell_type": "markdown",
   "metadata": {},
   "source": [
    "# Airyscan\n",
    "\n",
    "compute vectorizations for all the samples and save them as a csv where the column names encode the vectorization"
   ]
  },
  {
   "cell_type": "code",
   "execution_count": 7,
   "metadata": {},
   "outputs": [],
   "source": [
    "preprocessing = 'clip_minmax_gaussian2c_minmax'\n",
    "microscope = 'airyscan'\n",
    "\n",
    "\n",
    "if microscope.lower() == 'sted':\n",
    "    pers_folder = pers_sted\n",
    "    vect_folder = vec_sted\n",
    "elif microscope.lower() == 'airyscan':\n",
    "    pers_folder = pers_airyscan\n",
    "    vect_folder = vec_airyscan\n",
    "else:\n",
    "    raise ValueError('Microscope not recognized!')\n",
    "\n",
    "pers_all, keys = read_persistence_files(pers_folder, preprocessing, return_keys=True)\n",
    "if pers_all is None:\n",
    "    print('No persistence files for this preprocessing steps found!')\n",
    "df_labels = pd.read_csv(data_pers / f'labels_persistence_{microscope.lower()}.csv')\n",
    "labels = df_labels['labels'].values"
   ]
  },
  {
   "cell_type": "code",
   "execution_count": 8,
   "metadata": {},
   "outputs": [
    {
     "name": "stderr",
     "output_type": "stream",
     "text": [
      "100%|██████████| 2/2 [00:08<00:00,  4.29s/it]\n"
     ]
    }
   ],
   "source": [
    "df_vectorizations = compute_vectorizations_all(labels, pers_all, resolution_pi=20, bandwidth=4, resolution_bc=250)\n",
    "\n",
    "df_vectorizations.to_csv(vect_folder / f'vectorizations_all_{microscope.lower()}_{preprocessing}.csv',\n",
    "                         index=False)"
   ]
  }
 ],
 "metadata": {
  "kernelspec": {
   "display_name": "conda_nuclei_311",
   "language": "python",
   "name": "python3"
  },
  "language_info": {
   "codemirror_mode": {
    "name": "ipython",
    "version": 3
   },
   "file_extension": ".py",
   "mimetype": "text/x-python",
   "name": "python",
   "nbconvert_exporter": "python",
   "pygments_lexer": "ipython3",
   "version": "3.11.12"
  }
 },
 "nbformat": 4,
 "nbformat_minor": 2
}
