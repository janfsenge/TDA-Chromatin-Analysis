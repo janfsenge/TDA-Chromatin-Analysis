{
 "cells": [
  {
   "cell_type": "code",
   "execution_count": null,
   "metadata": {},
   "outputs": [],
   "source": [
    "import numpy as np\n",
    "import pandas as pd\n",
    "\n",
    "import gudhi as gd\n",
    "from sklearn.preprocessing import MinMaxScaler\n",
    "from scipy.ndimage import gaussian_filter\n",
    "\n",
    "from pathlib import Path\n",
    "from tqdm.notebook import tqdm\n",
    "\n",
    "from src.inputreader import read_persistence_files\n",
    "from src.auxfunctions import compute_vectorizations_all"
   ]
  },
  {
   "cell_type": "code",
   "execution_count": null,
   "metadata": {},
   "outputs": [],
   "source": [
    "data_input = Path('data_segmented')\n",
    "input_airyscan = data_input / 'Airyscan'\n",
    "input_sted = data_input / 'STED'\n",
    "\n",
    "data_pers = Path('data_processed')\n",
    "pers_sted = data_pers / 'persistence_sted'\n",
    "pers_airyscan = data_pers / 'persistence_airyscan'\n",
    "\n",
    "vec_sted = data_pers / 'vectorizations_sted'\n",
    "vec_airyscan = data_pers / 'vectorizations_airyscan'"
   ]
  },
  {
   "cell_type": "markdown",
   "metadata": {},
   "source": [
    "# STED\n",
    "\n",
    "compute vectorizations for all the samples and save them as a csv where the column names encode the vectorization"
   ]
  },
  {
   "cell_type": "code",
   "execution_count": null,
   "metadata": {},
   "outputs": [],
   "source": [
    "preprocessing = 'clip_minmax_gaussian2c_minmax'\n",
    "microscope = 'sted'\n",
    "\n",
    "\n",
    "if microscope.lower() == 'sted':\n",
    "    pers_folder = pers_sted\n",
    "    vect_folder = vec_sted\n",
    "elif microscope.lower() == 'airyscan':\n",
    "    pers_folder = pers_airyscan\n",
    "    vect_folder = vec_airyscan\n",
    "else:\n",
    "    raise ValueError('Microscope not recognized!')\n",
    "\n",
    "pers_all, keys = read_persistence_files(pers_folder, preprocessing, return_keys=True)\n",
    "if pers_all is None:\n",
    "    print('No persistence files for this preprocessing steps found!')\n",
    "df_labels = pd.read_csv(data_pers / f'labels_persistence_{microscope.lower()}.csv')\n",
    "labels = df_labels['label'].values"
   ]
  },
  {
   "cell_type": "code",
   "execution_count": 9,
   "metadata": {},
   "outputs": [
    {
     "name": "stderr",
     "output_type": "stream",
     "text": [
      "100%|██████████| 2/2 [10:38<00:00, 319.05s/it]\n"
     ]
    }
   ],
   "source": [
    "df_vectorizations = compute_vectorizations_all(labels, pers_all, resolution_pi=20, bandwidth=4, resolution_bc=250)\n",
    "\n",
    "df_vectorizations.to_csv(vect_folder / f'vectorizations_all_{microscope.lower()}_{preprocessing}.csv',\n",
    "                         index=False)"
   ]
  },
  {
   "cell_type": "markdown",
   "metadata": {},
   "source": [
    "# Airyscan\n",
    "\n",
    "compute vectorizations for all the samples and save them as a csv where the column names encode the vectorization"
   ]
  },
  {
   "cell_type": "code",
   "execution_count": null,
   "metadata": {},
   "outputs": [],
   "source": [
    "preprocessing = 'clip_minmax_gaussian2c_minmax'\n",
    "microscope = 'airyscan'\n",
    "\n",
    "\n",
    "if microscope.lower() == 'sted':\n",
    "    pers_folder = pers_sted\n",
    "    vect_folder = vec_sted\n",
    "elif microscope.lower() == 'airyscan':\n",
    "    pers_folder = pers_airyscan\n",
    "    vect_folder = vec_airyscan\n",
    "else:\n",
    "    raise ValueError('Microscope not recognized!')\n",
    "\n",
    "pers_all, keys = read_persistence_files(pers_folder, preprocessing, return_keys=True)\n",
    "if pers_all is None:\n",
    "    print('No persistence files for this preprocessing steps found!')\n",
    "df_labels = pd.read_csv(data_pers / f'labels_persistence_{microscope.lower()}.csv')\n",
    "labels = df_labels['label'].values"
   ]
  },
  {
   "cell_type": "code",
   "execution_count": null,
   "metadata": {},
   "outputs": [],
   "source": [
    "df_vectorizations = compute_vectorizations_all(labels, pers_all, resolution_pi=20, bandwidth=4, resolution_bc=250)\n",
    "\n",
    "df_vectorizations.to_csv(vect_folder / f'vectorizations_all_{microscope.lower()}_{preprocessing}.csv',\n",
    "                         index=False)"
   ]
  }
 ],
 "metadata": {
  "kernelspec": {
   "display_name": "conda_nuclei_311",
   "language": "python",
   "name": "python3"
  },
  "language_info": {
   "codemirror_mode": {
    "name": "ipython",
    "version": 3
   },
   "file_extension": ".py",
   "mimetype": "text/x-python",
   "name": "python",
   "nbconvert_exporter": "python",
   "pygments_lexer": "ipython3",
   "version": "3.11.9"
  }
 },
 "nbformat": 4,
 "nbformat_minor": 2
}
